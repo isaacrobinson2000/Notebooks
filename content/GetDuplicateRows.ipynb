{
 "cells": [
  {
   "cell_type": "markdown",
   "metadata": {},
   "source": [
    "# How to run cells:\n",
    "\n",
    "Click the run button above in the toolbar (▶), or press <kbd>Shift</kbd> + <kbd>Enter</kbd>\n",
    "\n",
    "## Cell 1: Find spreadsheets in the project. \n",
    "\n",
    "Before running this cell, make sure to upload your spreadsheet into the file explorer on the left side (icon looks like ![Upload Icon](data:image/svg+xml;base64,PHN2ZyB4bWxucz0iaHR0cDovL3d3dy53My5vcmcvMjAwMC9zdmciIHdpZHRoPSIyNCIgdmlld0JveD0iMCAwIDI0IDI0IiBkYXRhLWljb249InVpLWNvbXBvbmVudHM6ZmlsZS11cGxvYWQiPjxnIHhtbG5zPSJodHRwOi8vd3d3LnczLm9yZy8yMDAwL3N2ZyIgY2xhc3M9ImpwLWljb24zIiBmaWxsPSIjNjE2MTYxIj48cGF0aCBkPSJNOSAxNmg2di02aDRsLTctNy03IDdoNHptLTQgMmgxNHYySDV6Ij48L3BhdGg%2BPC9nPjwvc3ZnPg%3D%3D)).\n",
    "\n",
    "Once you've uploaded the spreadsheet, it will show up in the little side file listing. Running this cell will print out the name of the spreadsheet if everything works correctly."
   ]
  },
  {
   "cell_type": "code",
   "execution_count": 1,
   "metadata": {},
   "outputs": [
    {
     "name": "stdout",
     "output_type": "stream",
     "text": [
      "Starting!\n"
     ]
    },
    {
     "ename": "ModuleNotFoundError",
     "evalue": "No module named 'micropip'",
     "output_type": "error",
     "traceback": [
      "\u001b[0;31m---------------------------------------------------------------------------\u001b[0m",
      "\u001b[0;31mModuleNotFoundError\u001b[0m                       Traceback (most recent call last)",
      "Cell \u001b[0;32mIn[1], line 3\u001b[0m\n\u001b[1;32m      1\u001b[0m \u001b[38;5;66;03m# Install openpyxl so we can read and save excel spreadsheets in pandas.\u001b[39;00m\n\u001b[1;32m      2\u001b[0m \u001b[38;5;28mprint\u001b[39m(\u001b[38;5;124m\"\u001b[39m\u001b[38;5;124mStarting!\u001b[39m\u001b[38;5;124m\"\u001b[39m)\n\u001b[0;32m----> 3\u001b[0m \u001b[38;5;28;01mimport\u001b[39;00m \u001b[38;5;21;01mmicropip\u001b[39;00m\n\u001b[1;32m      4\u001b[0m \u001b[38;5;28;01mawait\u001b[39;00m micropip\u001b[38;5;241m.\u001b[39minstall(\u001b[38;5;124m'\u001b[39m\u001b[38;5;124mipywidgets\u001b[39m\u001b[38;5;124m'\u001b[39m)\n\u001b[1;32m      5\u001b[0m get_ipython()\u001b[38;5;241m.\u001b[39mrun_line_magic(\u001b[38;5;124m'\u001b[39m\u001b[38;5;124mpip\u001b[39m\u001b[38;5;124m'\u001b[39m, \u001b[38;5;124m'\u001b[39m\u001b[38;5;124minstall openpyxl\u001b[39m\u001b[38;5;124m'\u001b[39m)\n",
      "\u001b[0;31mModuleNotFoundError\u001b[0m: No module named 'micropip'"
     ]
    }
   ],
   "source": [
    "# Install openpyxl so we can read and save excel spreadsheets in pandas.\n",
    "print(\"Starting!\")\n",
    "import micropip\n",
    "await micropip.install('ipywidgets')\n",
    "%pip install openpyxl\n",
    "# Import needed libraries. Key one here is pandas, which allows us to do operate on \"DataFrames\" which are spreadsheet objects.\n",
    "from pathlib import Path\n",
    "import pandas as pd\n",
    "\n",
    "# Iterate files in this directory, if it ends with \".xlsx\" keep it. We also filter out the spreadsheet name we save at the end.\n",
    "sheet_paths = [p for p in Path().iterdir() if(p.suffix == \".xlsx\" and p.name != \"duplicates.xlsx\")]\n",
    "\n",
    "# Print the set of spreadsheets a\n",
    "print(\"Spreadsheets:\", \", \".join(str(p) for p in sheet_paths))"
   ]
  },
  {
   "cell_type": "markdown",
   "metadata": {},
   "source": [
    "# Cell 2: Load the Spreadsheet.\n",
    "\n",
    "This loads the first spreadsheet in the above list into a pandas DataFrame object. This object acts much like a spreadsheet, and allows editing the sheet. You could replace `sheet_paths[0]` below with just the name of the speadsheet you want to load in quotes (such as `\"MySpreadsheet.xlsx\"`)."
   ]
  },
  {
   "cell_type": "code",
   "execution_count": 2,
   "metadata": {},
   "outputs": [],
   "source": [
    "# Read the spreadsheet into a panda's DataFrame object. Here we assign it to a variable, called first_sheet, but you could call it anything.\n",
    "first_sheet = pd.read_excel(sheet_paths[0], header=None)"
   ]
  },
  {
   "cell_type": "markdown",
   "metadata": {},
   "source": [
    "# Cell 3: Display the Spreadsheet\n",
    "\n",
    "In jupyter, you can display the spreadsheet by simply just entering it's name at the end of the cell."
   ]
  },
  {
   "cell_type": "code",
   "execution_count": 3,
   "metadata": {},
   "outputs": [
    {
     "data": {
      "text/html": [
       "<div>\n",
       "<style scoped>\n",
       "    .dataframe tbody tr th:only-of-type {\n",
       "        vertical-align: middle;\n",
       "    }\n",
       "\n",
       "    .dataframe tbody tr th {\n",
       "        vertical-align: top;\n",
       "    }\n",
       "\n",
       "    .dataframe thead th {\n",
       "        text-align: right;\n",
       "    }\n",
       "</style>\n",
       "<table border=\"1\" class=\"dataframe\">\n",
       "  <thead>\n",
       "    <tr style=\"text-align: right;\">\n",
       "      <th></th>\n",
       "      <th>0</th>\n",
       "      <th>1</th>\n",
       "      <th>2</th>\n",
       "    </tr>\n",
       "  </thead>\n",
       "  <tbody>\n",
       "    <tr>\n",
       "      <th>0</th>\n",
       "      <td>A</td>\n",
       "      <td>B</td>\n",
       "      <td>C</td>\n",
       "    </tr>\n",
       "    <tr>\n",
       "      <th>1</th>\n",
       "      <td>E</td>\n",
       "      <td>F</td>\n",
       "      <td>G</td>\n",
       "    </tr>\n",
       "    <tr>\n",
       "      <th>2</th>\n",
       "      <td>H</td>\n",
       "      <td>I</td>\n",
       "      <td>J</td>\n",
       "    </tr>\n",
       "    <tr>\n",
       "      <th>3</th>\n",
       "      <td>A</td>\n",
       "      <td>B</td>\n",
       "      <td>C</td>\n",
       "    </tr>\n",
       "    <tr>\n",
       "      <th>4</th>\n",
       "      <td>C</td>\n",
       "      <td>A</td>\n",
       "      <td>D</td>\n",
       "    </tr>\n",
       "    <tr>\n",
       "      <th>5</th>\n",
       "      <td>D</td>\n",
       "      <td>O</td>\n",
       "      <td>G</td>\n",
       "    </tr>\n",
       "  </tbody>\n",
       "</table>\n",
       "</div>"
      ],
      "text/plain": [
       "   0  1  2\n",
       "0  A  B  C\n",
       "1  E  F  G\n",
       "2  H  I  J\n",
       "3  A  B  C\n",
       "4  C  A  D\n",
       "5  D  O  G"
      ]
     },
     "execution_count": 3,
     "metadata": {},
     "output_type": "execute_result"
    }
   ],
   "source": [
    "# Display the spreadsheet.\n",
    "first_sheet"
   ]
  },
  {
   "cell_type": "markdown",
   "metadata": {},
   "source": [
    "# Cell 4: Grab Only Duplicate Columns\n",
    "\n",
    "Pandas dataframe objects provide a method called `duplicated` that returns a boolean mask, where there is a 1 (or True) for every location that is a duplicate, and a 0 (or False) everywhere else. By indexing the spreadsheet (the square brackets below) with this mask, we get every single row that has duplicates. This operation generates a new dataframe, which we store in a variable called `duplicates`."
   ]
  },
  {
   "cell_type": "code",
   "execution_count": 4,
   "metadata": {},
   "outputs": [
    {
     "data": {
      "text/html": [
       "<div>\n",
       "<style scoped>\n",
       "    .dataframe tbody tr th:only-of-type {\n",
       "        vertical-align: middle;\n",
       "    }\n",
       "\n",
       "    .dataframe tbody tr th {\n",
       "        vertical-align: top;\n",
       "    }\n",
       "\n",
       "    .dataframe thead th {\n",
       "        text-align: right;\n",
       "    }\n",
       "</style>\n",
       "<table border=\"1\" class=\"dataframe\">\n",
       "  <thead>\n",
       "    <tr style=\"text-align: right;\">\n",
       "      <th></th>\n",
       "      <th>0</th>\n",
       "      <th>1</th>\n",
       "      <th>2</th>\n",
       "    </tr>\n",
       "  </thead>\n",
       "  <tbody>\n",
       "    <tr>\n",
       "      <th>0</th>\n",
       "      <td>A</td>\n",
       "      <td>B</td>\n",
       "      <td>C</td>\n",
       "    </tr>\n",
       "    <tr>\n",
       "      <th>3</th>\n",
       "      <td>A</td>\n",
       "      <td>B</td>\n",
       "      <td>C</td>\n",
       "    </tr>\n",
       "  </tbody>\n",
       "</table>\n",
       "</div>"
      ],
      "text/plain": [
       "   0  1  2\n",
       "0  A  B  C\n",
       "3  A  B  C"
      ]
     },
     "execution_count": 4,
     "metadata": {},
     "output_type": "execute_result"
    }
   ],
   "source": [
    "# Grab every duplicated row of the spreadsheet (keep=False tells it to keep all the duplicates, not just the first or last).\n",
    "duplicates = first_sheet[first_sheet.duplicated(keep=False)]\n",
    "# Display the new table, which only has rows with duplicates.\n",
    "duplicates"
   ]
  },
  {
   "cell_type": "markdown",
   "metadata": {},
   "source": [
    "# Cell 5: Save the Dataframe back to an Excel Spreadsheet\n",
    "\n",
    "This saves the duplicates only dataframe object back to a spreadsheet, using `to_excel` method. It accepts a single argument, the name of the spreadsheet. You can change the name by modifying the text in quotes."
   ]
  },
  {
   "cell_type": "code",
   "execution_count": 5,
   "metadata": {},
   "outputs": [],
   "source": [
    "# Save the duplicates to a new file...\n",
    "duplicates.to_excel(\"duplicates.xlsx\", header=None, index=None)"
   ]
  },
  {
   "cell_type": "markdown",
   "metadata": {},
   "source": [
    "Once done, you'll see a `duplicates.xlsx` in the file explorer on the left. Right click on it and click `Download` to download the file."
   ]
  },
  {
   "cell_type": "code",
   "execution_count": null,
   "metadata": {},
   "outputs": [],
   "source": []
  }
 ],
 "metadata": {
  "kernelspec": {
   "display_name": "Python 3 (ipykernel)",
   "language": "python",
   "name": "python3"
  },
  "language_info": {
   "codemirror_mode": {
    "name": "ipython",
    "version": 3
   },
   "file_extension": ".py",
   "mimetype": "text/x-python",
   "name": "python",
   "nbconvert_exporter": "python",
   "pygments_lexer": "ipython3",
   "version": "3.12.4"
  }
 },
 "nbformat": 4,
 "nbformat_minor": 4
}
