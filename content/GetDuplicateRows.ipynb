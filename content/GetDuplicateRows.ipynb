{
 "cells": [
  {
   "cell_type": "markdown",
   "metadata": {},
   "source": [
    "# How to run cells:\n",
    "\n",
    "Click the run button above in the toolbar (▶), or press <kbd>Shift</kbd> + <kbd>Enter</kbd>\n",
    "\n",
    "## Cell 1: The Spreadsheets App \n",
    "\n",
    "Run the cell below. A file picker will show up. Simply open the file picker, select your files, and duplicates will be automatically detected, displayed, and downloadable."
   ]
  },
  {
   "cell_type": "code",
   "execution_count": 11,
   "metadata": {},
   "outputs": [
    {
     "name": "stdout",
     "output_type": "stream",
     "text": [
      "Starting!\n",
      "\n",
      "\n",
      "Searching files...\n",
      "Select your files using the file selector below:\n"
     ]
    },
    {
     "data": {
      "application/vnd.jupyter.widget-view+json": {
       "model_id": "88e70800cd4e41ea8e0904b021deed1c",
       "version_major": 2,
       "version_minor": 0
      },
      "text/plain": [
       "VBox(children=(FileUpload(value=(), accept='.xlsx,.csv', description='Upload', multiple=True), VBox()))"
      ]
     },
     "metadata": {},
     "output_type": "display_data"
    }
   ],
   "source": [
    "# Install openpyxl so we can read and save excel spreadsheets in pandas.\n",
    "print(\"Starting!\\n\\n\")\n",
    "try:\n",
    "    import micropip\n",
    "    await micropip.install('ipywidgets')\n",
    "    %pip install openpyxl\n",
    "except ImportError:\n",
    "    pass\n",
    "# Import needed libraries. Key one here is pandas, which allows us to do operate on \"DataFrames\" which are spreadsheet objects.\n",
    "from pathlib import Path\n",
    "import pandas as pd\n",
    "from ipywidgets import widgets\n",
    "from IPython.display import display\n",
    "from IPython.display import Markdown\n",
    "import io\n",
    "import base64\n",
    "import traceback\n",
    "\n",
    "def download_button(buffer, filename: str, button_description: str):\n",
    "    payload = base64.b64encode(buffer.read()).decode()\n",
    "\n",
    "    html_button = f\"\"\"<html>\n",
    "    <head>\n",
    "    <meta name=\"viewport\" content=\"width=device-width, initial-scale=1\">\n",
    "    </head>\n",
    "    <body>\n",
    "    <a download=\"{filename}\" href=\"data:text/csv;base64,{payload}\" >\n",
    "    <button class=\"p-Widget jupyter-widgets jupyter-button widget-button mod-warning\">{button_description}</button>\n",
    "    </a>\n",
    "    </body>\n",
    "    </html>\n",
    "    \"\"\"\n",
    "    return widgets.HTML(html_button)\n",
    "\n",
    "\n",
    "file_picker = widgets.FileUpload(accept=\".xlsx,.csv\", multiple=True)\n",
    "vbox = widgets.VBox()\n",
    "\n",
    "def on_file_chosen(change):\n",
    "    print(\"Searching files...\")\n",
    "\n",
    "    vbox.children = ()\n",
    "    \n",
    "    for file in file_picker.value:\n",
    "        out = widgets.Output()\n",
    "        vbox.children += (out,)\n",
    "        with out:\n",
    "            try:\n",
    "                print()\n",
    "                display(Markdown(f\"#### Loading file: {file.name}\"))\n",
    "                ext = file.name.split(\".\")[-1]\n",
    "                name = file.name.split(\".\")[0]\n",
    "                if(ext == \"xlsx\"):\n",
    "                    df = pd.read_excel(io.BytesIO(file.content), header=None, engine=\"openpyxl\")\n",
    "                elif(ext == \"csv\"):\n",
    "                    df = pd.read_csv(io.BytesIO(file.content), header=None)\n",
    "                else:\n",
    "                    display(f\"Skipping: {file.name}, unsupported format '.{ext}'\\n\")\n",
    "                    continue\n",
    "                print(f\"Duplicates:\")\n",
    "                duplicates = df[df.duplicated(keep=False)]\n",
    "                display(duplicates)\n",
    "                print(f\"Total duplicate rows: {len(duplicates.index)} out of {len(df.index)}\")\n",
    "                csv = io.BytesIO()\n",
    "                duplicates.to_csv(csv, header=None)\n",
    "                csv.seek(0)\n",
    "                display(download_button(csv, f\"{name}-duplicates.csv\", \"Download as CSV\"))\n",
    "                excel = io.BytesIO()\n",
    "                duplicates.to_excel(excel, header=None)\n",
    "                excel.seek(0)\n",
    "                display(download_button(excel, f\"{name}-duplicates.xlsx\", \"Download as Excel\"))\n",
    "            except Exception as e:\n",
    "                print(\"An error occured:\", repr(e))\n",
    "                traceback.print_exc()\n",
    "          \n",
    "on_file_chosen(None)\n",
    "file_picker.observe(on_file_chosen, names=\"value\")\n",
    "print(\"Select your files using the file selector below:\")\n",
    "display(widgets.VBox([file_picker, vbox]))"
   ]
  },
  {
   "cell_type": "code",
   "execution_count": null,
   "metadata": {},
   "outputs": [],
   "source": []
  }
 ],
 "metadata": {
  "kernelspec": {
   "display_name": "Python 3 (ipykernel)",
   "language": "python",
   "name": "python3"
  },
  "language_info": {
   "codemirror_mode": {
    "name": "ipython",
    "version": 3
   },
   "file_extension": ".py",
   "mimetype": "text/x-python",
   "name": "python",
   "nbconvert_exporter": "python",
   "pygments_lexer": "ipython3",
   "version": "3.12.4"
  }
 },
 "nbformat": 4,
 "nbformat_minor": 4
}
