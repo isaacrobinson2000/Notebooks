{
  "metadata": {
    "kernelspec": {
      "name": "python",
      "display_name": "Python (Pyodide)",
      "language": "python"
    },
    "language_info": {
      "codemirror_mode": {
        "name": "python",
        "version": 3
      },
      "file_extension": ".py",
      "mimetype": "text/x-python",
      "name": "python",
      "nbconvert_exporter": "python",
      "pygments_lexer": "ipython3",
      "version": "3.8"
    }
  },
  "nbformat_minor": 4,
  "nbformat": 4,
  "cells": [
    {
      "cell_type": "markdown",
      "source": "# How to run cells:\n\nClick the run button above in the toolbar (▶), or press <kbd>Shift</kbd> + <kbd>Enter</kbd>\n\n## Cell 1: Find spreadsheets in the project. \n\nBefore running this cell, make sure to upload your spreadsheet into the file explorer on the left side (icon looks like ![Upload Icon](data:image/svg+xml;base64,PHN2ZyB4bWxucz0iaHR0cDovL3d3dy53My5vcmcvMjAwMC9zdmciIHdpZHRoPSIyNCIgdmlld0JveD0iMCAwIDI0IDI0IiBkYXRhLWljb249InVpLWNvbXBvbmVudHM6ZmlsZS11cGxvYWQiPjxnIHhtbG5zPSJodHRwOi8vd3d3LnczLm9yZy8yMDAwL3N2ZyIgY2xhc3M9ImpwLWljb24zIiBmaWxsPSIjNjE2MTYxIj48cGF0aCBkPSJNOSAxNmg2di02aDRsLTctNy03IDdoNHptLTQgMmgxNHYySDV6Ij48L3BhdGg%2BPC9nPjwvc3ZnPg%3D%3D)).\n\nOnce you've uploaded the spreadsheet, it will show up in the little side file listing. Running this cell will print out the name of the spreadsheet if everything works correctly.",
      "metadata": {}
    },
    {
      "cell_type": "code",
      "source": "# Install openpyxl so we can read and save excel spreadsheets in pandas.\nprint(\"Starting!\")\n# Import needed libraries. Key one here is pandas, which allows us to do operate on \"DataFrames\" which are spreadsheet objects.\nfrom pathlib import Path\nimport pandas as pd\n\n# Iterate files in this directory, if it ends with \".xlsx\" keep it. We also filter out the spreadsheet name we save at the end.\nsheet_paths = [p for p in Path().iterdir() if(p.suffix == \".xlsx\" and p.name != \"duplicates.xlsx\")]\n\n# Print the set of spreadsheets a\nprint(\"Spreadsheets:\", \", \".join(str(p) for p in sheet_paths))",
      "metadata": {
        "trusted": true
      },
      "outputs": [
        {
          "name": "stdout",
          "text": "Starting!\nSpreadsheets: test.xlsx\n",
          "output_type": "stream"
        }
      ],
      "execution_count": 12
    },
    {
      "cell_type": "markdown",
      "source": "# Cell 2: Load the Spreadsheet.\n\nThis loads the first spreadsheet in the above list into a pandas DataFrame object. This object acts much like a spreadsheet, and allows editing the sheet. You could replace `sheet_paths[0]` below with just the name of the speadsheet you want to load in quotes (such as `\"MySpreadsheet.xlsx\"`).",
      "metadata": {}
    },
    {
      "cell_type": "code",
      "source": "# Read the spreadsheet into a panda's DataFrame object. Here we assign it to a variable, called first_sheet, but you could call it anything.\nfirst_sheet = pd.read_excel(sheet_paths[0], header=None)",
      "metadata": {
        "trusted": true
      },
      "outputs": [],
      "execution_count": 4
    },
    {
      "cell_type": "markdown",
      "source": "# Cell 3: Display the Spreadsheet\n\nIn jupyter, you can display the spreadsheet by simply just entering it's name at the end of the cell.",
      "metadata": {}
    },
    {
      "cell_type": "code",
      "source": "# Display the spreadsheet.\nfirst_sheet",
      "metadata": {
        "trusted": true
      },
      "outputs": [
        {
          "execution_count": 5,
          "output_type": "execute_result",
          "data": {
            "text/plain": "   0  1  2\n0  A  B  C\n1  E  F  G\n2  H  I  J\n3  A  B  C\n4  C  A  D\n5  D  O  G",
            "text/html": "<div>\n<style scoped>\n    .dataframe tbody tr th:only-of-type {\n        vertical-align: middle;\n    }\n\n    .dataframe tbody tr th {\n        vertical-align: top;\n    }\n\n    .dataframe thead th {\n        text-align: right;\n    }\n</style>\n<table border=\"1\" class=\"dataframe\">\n  <thead>\n    <tr style=\"text-align: right;\">\n      <th></th>\n      <th>0</th>\n      <th>1</th>\n      <th>2</th>\n    </tr>\n  </thead>\n  <tbody>\n    <tr>\n      <th>0</th>\n      <td>A</td>\n      <td>B</td>\n      <td>C</td>\n    </tr>\n    <tr>\n      <th>1</th>\n      <td>E</td>\n      <td>F</td>\n      <td>G</td>\n    </tr>\n    <tr>\n      <th>2</th>\n      <td>H</td>\n      <td>I</td>\n      <td>J</td>\n    </tr>\n    <tr>\n      <th>3</th>\n      <td>A</td>\n      <td>B</td>\n      <td>C</td>\n    </tr>\n    <tr>\n      <th>4</th>\n      <td>C</td>\n      <td>A</td>\n      <td>D</td>\n    </tr>\n    <tr>\n      <th>5</th>\n      <td>D</td>\n      <td>O</td>\n      <td>G</td>\n    </tr>\n  </tbody>\n</table>\n</div>"
          },
          "metadata": {}
        }
      ],
      "execution_count": 5
    },
    {
      "cell_type": "markdown",
      "source": "# Cell 4: Grab Only Duplicate Columns\n\nPandas dataframe objects provide a method called `duplicated` that returns a boolean mask, where there is a 1 (or True) for every location that is a duplicate, and a 0 (or False) everywhere else. By indexing the spreadsheet (the square brackets below) with this mask, we get every single row that has duplicates. This operation generates a new dataframe, which we store in a variable called `duplicates`.",
      "metadata": {}
    },
    {
      "cell_type": "code",
      "source": "# Grab every duplicated row of the spreadsheet (keep=False tells it to keep all the duplicates, not just the first or last).\nduplicates = first_sheet[first_sheet.duplicated(keep=False)]\n# Display the new table, which only has rows with duplicates.\nduplicates",
      "metadata": {
        "trusted": true
      },
      "outputs": [
        {
          "execution_count": 6,
          "output_type": "execute_result",
          "data": {
            "text/plain": "   0  1  2\n0  A  B  C\n3  A  B  C",
            "text/html": "<div>\n<style scoped>\n    .dataframe tbody tr th:only-of-type {\n        vertical-align: middle;\n    }\n\n    .dataframe tbody tr th {\n        vertical-align: top;\n    }\n\n    .dataframe thead th {\n        text-align: right;\n    }\n</style>\n<table border=\"1\" class=\"dataframe\">\n  <thead>\n    <tr style=\"text-align: right;\">\n      <th></th>\n      <th>0</th>\n      <th>1</th>\n      <th>2</th>\n    </tr>\n  </thead>\n  <tbody>\n    <tr>\n      <th>0</th>\n      <td>A</td>\n      <td>B</td>\n      <td>C</td>\n    </tr>\n    <tr>\n      <th>3</th>\n      <td>A</td>\n      <td>B</td>\n      <td>C</td>\n    </tr>\n  </tbody>\n</table>\n</div>"
          },
          "metadata": {}
        }
      ],
      "execution_count": 6
    },
    {
      "cell_type": "markdown",
      "source": "# Cell 5: Save the Dataframe back to an Excel Spreadsheet\n\nThis saves the duplicates only dataframe object back to a spreadsheet, using `to_excel` method. It accepts a single argument, the name of the spreadsheet. You can change the name by modifying the text in quotes.",
      "metadata": {}
    },
    {
      "cell_type": "code",
      "source": "# Save the duplicates to a new file...\nduplicates.to_excel(\"duplicates.xlsx\", header=None, index=None)",
      "metadata": {
        "trusted": true
      },
      "outputs": [],
      "execution_count": 9
    },
    {
      "cell_type": "markdown",
      "source": "Once done, you'll see a `duplicates.xlsx` in the file explorer on the left. Right click on it and click `Download` to download the file.",
      "metadata": {}
    },
    {
      "cell_type": "code",
      "source": "",
      "metadata": {
        "trusted": true
      },
      "outputs": [],
      "execution_count": null
    }
  ]
}